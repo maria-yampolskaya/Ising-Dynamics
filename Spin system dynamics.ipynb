{
 "cells": [
  {
   "cell_type": "code",
   "execution_count": 1,
   "metadata": {},
   "outputs": [],
   "source": [
    "import numpy as np\n",
    "import matplotlib.pyplot as plt"
   ]
  },
  {
   "cell_type": "markdown",
   "metadata": {},
   "source": [
    "# Ising Model\n",
    "Reference: *Modelling Brain Function* by Daniel Amit, Chapter 3"
   ]
  },
  {
   "cell_type": "code",
   "execution_count": 50,
   "metadata": {},
   "outputs": [],
   "source": [
    "class SpinSystem:\n",
    "    ''' \n",
    "    Store a spin system with interaction matrix J, spin state S, and temperature T\n",
    "    Has methods to update spin-by-spin according to Glauber dynamics\n",
    "\n",
    "    ...\n",
    "    \n",
    "    Attributes\n",
    "    --------------\n",
    "    J : np.array(N,N)\n",
    "        interaction matrix\n",
    "    S : np.array(N)\n",
    "        spin array\n",
    "    T : float\n",
    "        system temperature\n",
    "    anneal : boolean\n",
    "        whether or not to simulate annealing\n",
    "    anneal_args : float\n",
    "        argument(s) for decreasing the temperature\n",
    "    \n",
    "    Sub-functions\n",
    "    --------------\n",
    "    energy()\n",
    "        returns current value of total energy in the absence of an external field (eqn 3.59)\n",
    "    decrease_temperature(a = schedule parameter)\n",
    "        defines the annealing schedule\n",
    "    update(k = spin index)\n",
    "        determines whether or not spin k flips and updates the spin array accordingly\n",
    "        decrease temperature with each step, if annealling is on\n",
    "    '''\n",
    "    \n",
    "    def __init__(self, J, S, T, anneal, anneal_args=0.005):\n",
    "        self.J = J\n",
    "        self.S = S\n",
    "        self.T = T\n",
    "        self.anneal = anneal\n",
    "        self.anneal_args = anneal_args\n",
    "    \n",
    "    def energy(self):\n",
    "        return -0.5*(self.S.dot(self.J.dot(self.S)))\n",
    "    \n",
    "    def decrease_temperature(self):\n",
    "        self.T = self.T/(1 + self.anneal_args*self.T)\n",
    "    \n",
    "    def update(self, k):\n",
    "        delta_E = 2.*self.S[k]*(self.J[k].dot(self.S)) # Change in energy due to flipping spin k (eqn 3.60)\n",
    "        if self.T > 0:\n",
    "            flip_prob = np.exp(-delta_E/self.T)\n",
    "        else:\n",
    "            flip_prob = 0\n",
    "        random = np.random.rand()\n",
    "\n",
    "        if (delta_E < 0) or (random < flip_prob):\n",
    "            self.S[k] = -self.S[k]\n",
    "            \n",
    "        if self.anneal:\n",
    "            self.decrease_temperature()"
   ]
  },
  {
   "cell_type": "markdown",
   "metadata": {},
   "source": [
    "### Noisy asynchronous dynamics with detailed balance"
   ]
  },
  {
   "cell_type": "code",
   "execution_count": 76,
   "metadata": {},
   "outputs": [
    {
     "name": "stdout",
     "output_type": "stream",
     "text": [
      "Initial spin configuration:\n",
      "[-1  1 -1  1 -1  1 -1  1 -1  1  1 -1  1  1 -1 -1 -1 -1  1 -1  1  1 -1 -1\n",
      " -1 -1  1  1  1  1 -1  1 -1 -1 -1 -1  1  1  1 -1  1 -1 -1 -1 -1 -1 -1 -1\n",
      " -1  1  1  1 -1  1  1  1 -1  1  1 -1 -1  1 -1 -1  1 -1  1  1 -1 -1 -1  1\n",
      "  1 -1 -1 -1  1  1 -1 -1  1  1  1  1 -1 -1 -1 -1  1  1  1 -1  1 -1  1 -1\n",
      " -1 -1 -1  1]\n",
      "Final spin configuration:\n",
      "[-1 -1 -1 -1 -1 -1 -1 -1 -1 -1 -1 -1 -1 -1 -1 -1 -1 -1 -1 -1 -1 -1 -1 -1\n",
      " -1 -1 -1 -1 -1 -1 -1 -1 -1 -1 -1 -1 -1 -1 -1 -1 -1 -1 -1 -1 -1 -1 -1 -1\n",
      " -1 -1 -1 -1 -1 -1 -1 -1 -1 -1 -1 -1 -1 -1 -1 -1 -1 -1 -1 -1 -1 -1 -1 -1\n",
      " -1 -1 -1 -1 -1 -1 -1 -1 -1 -1 -1 -1 -1 -1 -1 -1 -1 -1 -1 -1 -1 -1 -1 -1\n",
      " -1 -1 -1 -1]\n"
     ]
    },
    {
     "data": {
      "image/png": "[encoded data removed]",
      "text/plain": [
       "<Figure size 720x576 with 3 Axes>"
      ]
     },
     "metadata": {
      "needs_background": "light"
     },
     "output_type": "display_data"
    }
   ],
   "source": [
    "# Choose a system size\n",
    "N = 100\n",
    "\n",
    "# Random positive interactions with detailed balance\n",
    "J_rand = np.random.uniform(0,1,size=(N,N)) # a ferromagnetic system\n",
    "J_rand = (J_rand + J_rand.T)/2             # make it symmetric, to satisfy detailed balance\n",
    "np.fill_diagonal(J_rand, 0)                # make sure the spins don't self-interact\n",
    "\n",
    "S_rand = np.random.choice([-1,1],size=N)\n",
    "T_rand = np.random.uniform(0, 500)\n",
    "\n",
    "system_rand = SpinSystem(J_rand, S_rand, T_rand, True, 0.001)\n",
    "\n",
    "total_time = 2*N # how many time steps to take\n",
    "time = range(total_time)\n",
    "energies = np.zeros(total_time)\n",
    "magnetizations = np.zeros(total_time)\n",
    "temperatures = np.zeros(total_time)\n",
    "    \n",
    "print(\"Initial spin configuration:\")\n",
    "print(system_rand.S)\n",
    "\n",
    "for t in time:\n",
    "    energies[t] = system_rand.energy()\n",
    "    temperatures[t] = system_rand.T\n",
    "    magnetizations[t] = np.average(system_rand.S)\n",
    "    \n",
    "    system_rand.update(t%N) # update spin t mod N\n",
    "\n",
    "print(\"Final spin configuration:\")\n",
    "print(system_rand.S)\n",
    "\n",
    "plt.figure(figsize=(10, 8))\n",
    "plt.subplot(3, 1, 1)\n",
    "plt.ylabel('Temperature')\n",
    "plt.plot(time, temperatures, 'ko')\n",
    "\n",
    "plt.subplot(3, 1, 2)\n",
    "plt.ylabel('Energy')\n",
    "plt.plot(time, energies, 'ko')\n",
    "\n",
    "plt.subplot(3, 1, 3)\n",
    "plt.ylabel('Magnetization')\n",
    "plt.plot(time, magnetizations, 'ko')\n",
    "\n",
    "plt.tight_layout()\n",
    "plt.xlabel('Update step')\n",
    "plt.show()"
   ]
  },
  {
   "cell_type": "markdown",
   "metadata": {},
   "source": [
    "# Hopfield Model\n",
    "Reference: *Neural networks and physical systems with emergent collective computational abilities* by J. J. Hopfield"
   ]
  },
  {
   "cell_type": "code",
   "execution_count": 107,
   "metadata": {},
   "outputs": [],
   "source": [
    "def hamming_dist(S1, S2):\n",
    "    ''' Calculate the bit-by-bit distance between two spin systems S1 and S2 '''\n",
    "    N = len(S1)\n",
    "    distance = 0\n",
    "    for i in range(N):\n",
    "        if S1[i] != S2[i]:\n",
    "            distance += 1\n",
    "    return distance\n",
    "\n",
    "def generate_hopf(states):\n",
    "    ''' Generate interaction matrix to store given states '''\n",
    "\n",
    "    N = states.shape[1]\n",
    "    J_hopf = np.empty((N,N))\n",
    "\n",
    "    for i in range(N):\n",
    "        for j in range(N):\n",
    "            total = 0\n",
    "            for s in range(n):\n",
    "                total += states[s][i]*states[s][j]\n",
    "\n",
    "            J_hopf[i][j] = total\n",
    "\n",
    "    np.fill_diagonal(J_hopf, 0) # make sure the spins don't self-interact\n",
    "    \n",
    "    return J_hopf"
   ]
  },
  {
   "cell_type": "code",
   "execution_count": 108,
   "metadata": {},
   "outputs": [
    {
     "data": {
      "image/png": "[encoded data removed]",
      "text/plain": [
       "<Figure size 720x576 with 3 Axes>"
      ]
     },
     "metadata": {
      "needs_background": "light"
     },
     "output_type": "display_data"
    }
   ],
   "source": [
    "# Choose a system size\n",
    "N = 100\n",
    "\n",
    "# Choose n random states of size N to store\n",
    "n = 15\n",
    "\n",
    "# Generate random states to store\n",
    "stored_states = np.empty((n, N))\n",
    "for i in range(n):\n",
    "    stored_states[i] = np.random.choice([-1,1],size=N)\n",
    "\n",
    "# Choose a stored state as the initial state\n",
    "S0 = stored_states[5]\n",
    "\n",
    "T_hopf = 0\n",
    "\n",
    "J_hopf = generate_hopf(stored_states)\n",
    "\n",
    "system_hopf = SpinSystem(J_hopf, S0, T_hopf, False)\n",
    "\n",
    "# Find the stored state closest to S0 \n",
    "# (for an initial state that is stored, this is obvious, but leave it in for random initial states)\n",
    "distances = [hamming_dist(S0, state) for state in stored_states]\n",
    "closest = np.argmin(distances) # index of the closest stored state\n",
    "\n",
    "total_time = N # how many time steps to take\n",
    "time = range(total_time)\n",
    "energies = np.zeros(total_time)\n",
    "temperatures = np.zeros(total_time)\n",
    "closest_dist = np.zeros(total_time)\n",
    "closest_state = np.zeros(total_time)\n",
    "\n",
    "for t in time:\n",
    "    energies[t] = system_hopf.energy()\n",
    "    temperatures[t] = system_hopf.T\n",
    "    closest_dist[t] = hamming_dist(system_hopf.S, stored_states[closest])\n",
    "    \n",
    "    distances = [hamming_dist(system_hopf.S, state) for state in stored_states]\n",
    "    closest_state[t] = np.argmin(distances)\n",
    "    \n",
    "    system_hopf.update(t%N) # update spin t mod N\n",
    "\n",
    "plt.figure(figsize=(10, 8))\n",
    "\n",
    "# plt.subplot(3, 1, 1)\n",
    "# plt.ylabel('Temperature')\n",
    "# plt.plot(time, temperatures, 'ko')\n",
    "\n",
    "plt.subplot(3, 1, 1)\n",
    "plt.title('Energy of the system')\n",
    "plt.ylabel('Energy')\n",
    "plt.plot(time, energies, 'ko')\n",
    "\n",
    "plt.subplot(3, 1, 2)\n",
    "plt.title('Distance to initially-closest stored state')\n",
    "plt.ylabel('Hamming distance')\n",
    "plt.plot(time, closest_dist, 'ko')\n",
    "\n",
    "plt.subplot(3, 1, 3)\n",
    "plt.title('Closest stored state')\n",
    "plt.ylabel('Index')\n",
    "plt.plot(time, closest_state, 'ko')\n",
    "\n",
    "plt.tight_layout()\n",
    "plt.xlabel('Update step')\n",
    "plt.show()"
   ]
  },
  {
   "cell_type": "code",
   "execution_count": 113,
   "metadata": {},
   "outputs": [],
   "source": [
    "def find_error(system):\n",
    "    ''' For a given system, evolve and measure final Hamming distance from initial state '''\n",
    "\n",
    "    initial_state = system.S\n",
    "    \n",
    "    total_time = N # how many time steps to take\n",
    "    time = range(total_time)\n",
    "    for t in time:\n",
    "        system_hopf.update(t%N) # update spin t mod N\n",
    "        \n",
    "    return hamming_dist(initial_state, system.S)   "
   ]
  },
  {
   "cell_type": "code",
   "execution_count": 114,
   "metadata": {},
   "outputs": [],
   "source": [
    "N = 100\n",
    "n = 15\n",
    "\n",
    "stored_states = np.empty((n, N))\n",
    "for i in range(n):\n",
    "    stored_states[i] = np.random.choice([-1,1],size=N)\n",
    "\n",
    "J_hopf = generate_hopf(stored_states)"
   ]
  },
  {
   "cell_type": "code",
   "execution_count": 120,
   "metadata": {},
   "outputs": [
    {
     "data": {
      "image/png": "[encoded data removed]",
      "text/plain": [
       "<Figure size 576x288 with 1 Axes>"
      ]
     },
     "metadata": {
      "needs_background": "light"
     },
     "output_type": "display_data"
    }
   ],
   "source": [
    "errors = np.empty(n)\n",
    "T_hopf = 0\n",
    "\n",
    "# Iterate through all n stored states and see if they eventually have errors\n",
    "for i in range(n):\n",
    "    system_hopf = SpinSystem(J_hopf, stored_states[i], T_hopf, False)\n",
    "    errors[i] = find_error(system_hopf)\n",
    "        \n",
    "plt.figure(figsize=(8, 4))\n",
    "plt.hist(errors)\n",
    "plt.title(\"Distribution of errors for n = {}, N = {}\".format(n, N))\n",
    "plt.ylabel(\"Count\")\n",
    "plt.xlabel(\"Number of errors\")\n",
    "plt.show()"
   ]
  },
  {
   "cell_type": "code",
   "execution_count": null,
   "metadata": {},
   "outputs": [],
   "source": []
  }
 ],
 "metadata": {
  "kernelspec": {
   "display_name": "Python 3",
   "language": "python",
   "name": "python3"
  },
  "language_info": {
   "codemirror_mode": {
    "name": "ipython",
    "version": 3
   },
   "file_extension": ".py",
   "mimetype": "text/x-python",
   "name": "python",
   "nbconvert_exporter": "python",
   "pygments_lexer": "ipython3",
   "version": "3.8.5"
  }
 },
 "nbformat": 4,
 "nbformat_minor": 4
}
