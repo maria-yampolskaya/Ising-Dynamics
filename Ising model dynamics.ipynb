{
 "cells": [
  {
   "cell_type": "code",
   "execution_count": 1,
   "metadata": {},
   "outputs": [],
   "source": [
    "import numpy as np\n",
    "import matplotlib.pyplot as plt"
   ]
  },
  {
   "cell_type": "markdown",
   "metadata": {},
   "source": [
    "# Ising Model Dynamics\n",
    "Reference: *Modelling Brain Function* by Daniel Amit, Chapter 3\n",
    "\n",
    "## Noisy asynchronous dynamics with detailed balance"
   ]
  },
  {
   "cell_type": "code",
   "execution_count": 72,
   "metadata": {},
   "outputs": [],
   "source": [
    "# Total energy (eqn 3.59) (no external field)\n",
    "def energy(J, S):\n",
    "    return -0.5*(S.dot(J.dot(S)))\n",
    "\n",
    "# Determine whether or not spin k flips\n",
    "def asynch_update(J, S, T, k):\n",
    "    delta_E = 2.*S[k]*(J[k].dot(S)) # Change in energy due to flipping spin k (eqn 3.60)\n",
    "    flip_prob = np.exp(-delta_E/T)\n",
    "    random = np.random.rand()\n",
    "    \n",
    "    if (delta_E < 0) or (random < flip_prob):\n",
    "        return -S[k]\n",
    "    else:\n",
    "        return S[k]\n",
    "            \n",
    "# Update each spin according to array order (arbitrary) and plot energy and magnetization\n",
    "def update_and_plot(J, S, T):\n",
    "    time = range(len(S))\n",
    "    energies = np.zeros(len(S))\n",
    "    magnetizations = np.zeros(len(S))\n",
    "    \n",
    "    print(\"Initial spin configuration:\")\n",
    "    print(S)\n",
    "\n",
    "    for t in time:\n",
    "        energies[t] = energy(J, S)\n",
    "        magnetizations[t] = np.average(S)\n",
    "        S[t] = asynch_update(J, S, T, t)\n",
    "    \n",
    "    print(\"Final spin configuration:\")\n",
    "    print(S)\n",
    "\n",
    "    plt.figure(figsize=(10, 8))\n",
    "    plt.subplot(2, 1, 1)\n",
    "    plt.ylabel('Energy')\n",
    "    plt.plot(time, energies, 'ko')\n",
    "\n",
    "    plt.subplot(2, 1, 2)\n",
    "    plt.ylabel('Magnetization')\n",
    "    plt.plot(time, magnetizations, 'ko')\n",
    "    plt.xlabel('Update steps')\n",
    "    plt.show()"
   ]
  },
  {
   "cell_type": "code",
   "execution_count": 90,
   "metadata": {},
   "outputs": [
    {
     "name": "stdout",
     "output_type": "stream",
     "text": [
      "Initial spin configuration:\n",
      "[-1  1  1 -1 -1 -1  1 -1  1  1  1  1 -1 -1 -1 -1 -1  1 -1 -1 -1 -1 -1 -1\n",
      "  1]\n",
      "Final spin configuration:\n",
      "[-1 -1 -1 -1 -1 -1 -1 -1 -1 -1 -1 -1 -1 -1 -1 -1 -1 -1 -1 -1 -1 -1 -1 -1\n",
      " -1]\n"
     ]
    },
    {
     "data": {
      "image/png": "[encoded data removed]",
      "text/plain": [
       "<Figure size 720x576 with 2 Axes>"
      ]
     },
     "metadata": {
      "needs_background": "light"
     },
     "output_type": "display_data"
    }
   ],
   "source": [
    "# Choose a system size\n",
    "N = 25\n",
    "\n",
    "# Random positive interactions with detailed balance\n",
    "J_rand = np.random.uniform(0,1,size=(N,N))\n",
    "J_rand = (J_rand + J_rand.T)/2   # make it symmetric, to satisfy detailed balance\n",
    "np.fill_diagonal(J_rand, 0)      # make sure the spins don't self-interact\n",
    "\n",
    "S_rand = np.random.choice([-1,1],size=N)\n",
    "\n",
    "T_rand = 4\n",
    "\n",
    "\n",
    "update_and_plot(J_rand, S_rand, T_rand)"
   ]
  },
  {
   "cell_type": "code",
   "execution_count": null,
   "metadata": {},
   "outputs": [],
   "source": []
  }
 ],
 "metadata": {
  "kernelspec": {
   "display_name": "Python 3",
   "language": "python",
   "name": "python3"
  },
  "language_info": {
   "codemirror_mode": {
    "name": "ipython",
    "version": 3
   },
   "file_extension": ".py",
   "mimetype": "text/x-python",
   "name": "python",
   "nbconvert_exporter": "python",
   "pygments_lexer": "ipython3",
   "version": "3.8.5"
  }
 },
 "nbformat": 4,
 "nbformat_minor": 4
}
